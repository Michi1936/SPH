{
 "cells": [
  {
   "cell_type": "code",
   "execution_count": 5,
   "metadata": {
    "collapsed": true
   },
   "outputs": [],
   "source": [
    "import sys\n",
    "import re\n",
    "import numpy as np"
   ]
  },
  {
   "cell_type": "code",
   "execution_count": 16,
   "metadata": {
    "collapsed": false
   },
   "outputs": [
    {
     "name": "stdout",
     "output_type": "stream",
     "text": [
      "./Source_70Phileball10/70Phileball10_1212_1519_parameters.dat\n",
      "['Source', 'Image', '70Phileball10.png\\n']\n",
      "['FLP', '2850', 'BP', '588', 'OBP', '80\\n']\n",
      "2850 588 80\n",
      "3442\n",
      "./Source_70Phileball10/70Phileball10_1212_1519_ : 301\n",
      "\n",
      "2850\n"
     ]
    }
   ],
   "source": [
    "ImgSource=\"70Phileball10\"\n",
    "prefix=\"./Source_70Phileball10/70Phileball10_1212_1519_\"\n",
    "fName=prefix+\"parameters.dat\"\n",
    "print(fName)\n",
    "row=0\n",
    "param=open(fName,\"r\")\n",
    "for line in param:\n",
    "    splitted=re.split('[: ]',line)\n",
    "    print(splitted)\n",
    "    row+=1\n",
    "    if splitted[0]==\"FLP\":\n",
    "        FLP=splitted[1]\n",
    "        BP=splitted[3]\n",
    "        RBP=splitted[5]\n",
    "        break\n",
    "FLP=int(FLP)\n",
    "BP=int(BP)\n",
    "RBP=int(RBP)\n",
    "print(FLP, BP, RBP)\n",
    "print(FLP+BP+4)\n",
    "\n",
    "writeFile=open(\"initialFluidState.dat\",\"w\")\n",
    "\n",
    "fName=prefix+\"data.dat\"\n",
    "readFile = open(fName,\"r\")\n",
    "spaceCount=0\n",
    "indexCount=0\n",
    "pIndex=0\n",
    "targetIndex=301\n",
    "array =np.zeros((FLP,10))\n",
    "arrayRigid=np.zeros((RBP, 10))\n",
    "arrayWall=np.zeros((BP, 10))\n",
    "\n",
    "writingString=prefix+\" : %d\\n\"%(targetIndex)\n",
    "print(writingString)\n",
    "writeFile.write(writingString)\n",
    "\n",
    "for line in readFile:\n",
    "    if line=='\\n':\n",
    "        spaceCount+=1\n",
    "    if indexCount==targetIndex and spaceCount==0:\n",
    "        splitted=line.split()\n",
    "        for j in range(10):\n",
    "            array[pIndex][j]=splitted[j]\n",
    "        pIndex+=1\n",
    "    if spaceCount==2:\n",
    "        indexCount+=1\n",
    "        spaceCount=0\n",
    "    if indexCount>targetIndex:\n",
    "        break\n",
    "print(pIndex)\n",
    "\n",
    "for i in range(FLP):\n",
    "    writingString=\"%d %f %f %f %f %f %f %f %f\\n\"%(array[i][0], array[i][1], array[i][2], array[i][3], array[i][4], array[i][8],array[i][9], array[i][6],array[i][7])\n",
    "    writeFile.write(writingString)\n",
    "readFile.close()\n",
    "writeFile.close()"
   ]
  },
  {
   "cell_type": "code",
   "execution_count": null,
   "metadata": {
    "collapsed": true
   },
   "outputs": [],
   "source": []
  }
 ],
 "metadata": {
  "kernelspec": {
   "display_name": "Python [Root]",
   "language": "python",
   "name": "Python [Root]"
  },
  "language_info": {
   "codemirror_mode": {
    "name": "ipython",
    "version": 3
   },
   "file_extension": ".py",
   "mimetype": "text/x-python",
   "name": "python",
   "nbconvert_exporter": "python",
   "pygments_lexer": "ipython3",
   "version": "3.5.2"
  }
 },
 "nbformat": 4,
 "nbformat_minor": 0
}
