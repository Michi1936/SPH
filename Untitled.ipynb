{
 "cells": [
  {
   "cell_type": "code",
   "execution_count": 1,
   "metadata": {
    "collapsed": true
   },
   "outputs": [],
   "source": [
    "from PIL import Image\n",
    "\n",
    "im=Image.open(\"./dam1.png\")#image file name for initial condition\n",
    "\n",
    "rgb_im=im.convert(\"RGB\")\n",
    "\n",
    "size=rgb_im.size\n",
    "\n",
    "rgb_im2=rgb_im.transpose(Image.FLIP_TOP_BOTTOM)#to make lower left origin\n",
    "iBP=0\n",
    "iFLP=0\n",
    "iOBP=1\n",
    "f=open(\"wall.txt\",\"w\")\n",
    "f2=open(\"numbers.h\",\"w\")\n",
    "for x in range(size[0]):\n",
    "    for y in range(size[1]):\n",
    "        r,g,b=rgb_im2.getpixel((x,y))\n",
    "        s=\"%d %d %d %d %d \\n\"%(x,y,r,g,b)\n",
    "        if (r,g,b)==(127,127,127):\n",
    "            f.write(s)\n",
    "            iBP=iBP+1\n",
    "f.close()            \n",
    "f=open(\"fluid.txt\",\"w\")\n",
    "for x in range(size[0]):\n",
    "    for y in range(size[1]):\n",
    "        r,g,b=rgb_im2.getpixel((x,y))\n",
    "        if(g==97):\n",
    "            print(r,g,b)\n",
    "        s=\"%d %d %d %d %d \\n\"%(x,y,r,g,b)\n",
    "        if (r,g,b)==(127,127,255):\n",
    "            f.write(s)\n",
    "            iFLP=iFLP+1\n",
    "        if (r,g,b)==(127,97,255):\n",
    "            f.write(s)\n",
    "            iFLP=iFLP+1\n",
    "\n",
    "f.close()            \n",
    "f=open(\"obstacle.txt\",\"w\")\n",
    "for x in range(size[0]):\n",
    "    for y in range(size[1]):\n",
    "        r,g,b=rgb_im2.getpixel((x,y))\n",
    "        s=\"%d %d %d %d %d \\n\"%(x,y,r,g,b)\n",
    "        if (r,g,b)==(255,0,0):\n",
    "            f.write(s)\n",
    "            iOBP=iOBP+1\n",
    "            \n",
    "s2=\"#define FLP %d \\n\"%(iFLP)\n",
    "f2.write(s2)\n",
    "s2=\"#define BP %d \\n\"%(iBP)\n",
    "f2.write(s2)\n",
    "s2=\"#define OBP %d \\n\"%(iOBP)\n",
    "f2.write(s2)\n",
    "s2=\"#define N %d \\n\"%(iFLP+iBP+iOBP)\n",
    "f2.write(s2)\n",
    "f.close()\n",
    "f2.close()"
   ]
  },
  {
   "cell_type": "code",
   "execution_count": null,
   "metadata": {
    "collapsed": true
   },
   "outputs": [],
   "source": []
  }
 ],
 "metadata": {
  "anaconda-cloud": {},
  "kernelspec": {
   "display_name": "Python [conda root]",
   "language": "python",
   "name": "conda-root-py"
  },
  "language_info": {
   "codemirror_mode": {
    "name": "ipython",
    "version": 3
   },
   "file_extension": ".py",
   "mimetype": "text/x-python",
   "name": "python",
   "nbconvert_exporter": "python",
   "pygments_lexer": "ipython3",
   "version": "3.5.2"
  }
 },
 "nbformat": 4,
 "nbformat_minor": 1
}
